{
 "cells": [
  {
   "cell_type": "code",
   "execution_count": 1,
   "id": "d893ee4d-45e8-4df1-8907-998daf55b9f5",
   "metadata": {
    "scrolled": true
   },
   "outputs": [
    {
     "name": "stdout",
     "output_type": "stream",
     "text": [
      "Defaulting to user installation because normal site-packages is not writeable\n",
      "Requirement already satisfied: rebound in /home/nabillbox/.local/lib/python3.9/site-packages (4.4.8)\n",
      "Requirement already satisfied: reboundx in /home/nabillbox/.local/lib/python3.9/site-packages (4.4.1)\n",
      "Requirement already satisfied: astroquery in /home/nabillbox/.local/lib/python3.9/site-packages (0.4.10)\n",
      "Requirement already satisfied: astropy in /home/nabillbox/.local/lib/python3.9/site-packages (6.0.1)\n",
      "Requirement already satisfied: numpy in /home/nabillbox/.local/lib/python3.9/site-packages (1.26.4)\n",
      "Requirement already satisfied: pandas in /home/nabillbox/.local/lib/python3.9/site-packages (2.3.0)\n",
      "Requirement already satisfied: requests>=2.19 in /usr/lib/python3/dist-packages (from astroquery) (2.31.0)\n",
      "Requirement already satisfied: beautifulsoup4>=4.8 in /home/nabillbox/.local/lib/python3.9/site-packages (from astroquery) (4.13.4)\n",
      "Requirement already satisfied: html5lib>=0.999 in /home/nabillbox/.local/lib/python3.9/site-packages (from astroquery) (1.1)\n",
      "Requirement already satisfied: keyring>=15.0 in /home/nabillbox/.local/lib/python3.9/site-packages (from astroquery) (25.6.0)\n",
      "Requirement already satisfied: pyvo>=1.5 in /home/nabillbox/.local/lib/python3.9/site-packages (from astroquery) (1.7)\n",
      "Requirement already satisfied: pyerfa>=2.0.1.1 in /home/nabillbox/.local/lib/python3.9/site-packages (from astropy) (2.0.1.5)\n",
      "Requirement already satisfied: astropy-iers-data>=0.2024.2.26.0.28.55 in /home/nabillbox/.local/lib/python3.9/site-packages (from astropy) (0.2025.6.9.14.9.37)\n",
      "Requirement already satisfied: PyYAML>=3.13 in /usr/lib/python3/dist-packages (from astropy) (6.0.1)\n",
      "Requirement already satisfied: packaging>=19.0 in /home/nabillbox/.local/lib/python3.9/site-packages (from astropy) (25.0)\n",
      "Requirement already satisfied: python-dateutil>=2.8.2 in /home/nabillbox/.local/lib/python3.9/site-packages (from pandas) (2.9.0.post0)\n",
      "Requirement already satisfied: pytz>=2020.1 in /usr/lib/python3/dist-packages (from pandas) (2024.1)\n",
      "Requirement already satisfied: tzdata>=2022.7 in /home/nabillbox/.local/lib/python3.9/site-packages (from pandas) (2025.2)\n",
      "Requirement already satisfied: soupsieve>1.2 in /home/nabillbox/.local/lib/python3.9/site-packages (from beautifulsoup4>=4.8->astroquery) (2.7)\n",
      "Requirement already satisfied: typing-extensions>=4.0.0 in /usr/lib/python3/dist-packages (from beautifulsoup4>=4.8->astroquery) (4.10.0)\n",
      "Requirement already satisfied: six>=1.9 in /usr/lib/python3/dist-packages (from html5lib>=0.999->astroquery) (1.16.0)\n",
      "Requirement already satisfied: webencodings in /home/nabillbox/.local/lib/python3.9/site-packages (from html5lib>=0.999->astroquery) (0.5.1)\n",
      "Requirement already satisfied: SecretStorage>=3.2 in /home/nabillbox/.local/lib/python3.9/site-packages (from keyring>=15.0->astroquery) (3.3.3)\n",
      "Requirement already satisfied: jeepney>=0.4.2 in /home/nabillbox/.local/lib/python3.9/site-packages (from keyring>=15.0->astroquery) (0.9.0)\n",
      "Requirement already satisfied: importlib_metadata>=4.11.4 in /home/nabillbox/.local/lib/python3.9/site-packages (from keyring>=15.0->astroquery) (8.7.0)\n",
      "Requirement already satisfied: jaraco.classes in /home/nabillbox/.local/lib/python3.9/site-packages (from keyring>=15.0->astroquery) (3.4.0)\n",
      "Requirement already satisfied: jaraco.functools in /home/nabillbox/.local/lib/python3.9/site-packages (from keyring>=15.0->astroquery) (4.1.0)\n",
      "Requirement already satisfied: jaraco.context in /home/nabillbox/.local/lib/python3.9/site-packages (from keyring>=15.0->astroquery) (6.0.1)\n",
      "Requirement already satisfied: zipp>=3.20 in /home/nabillbox/.local/lib/python3.9/site-packages (from importlib_metadata>=4.11.4->keyring>=15.0->astroquery) (3.22.0)\n",
      "Requirement already satisfied: cryptography>=2.0 in /usr/lib/python3/dist-packages (from SecretStorage>=3.2->keyring>=15.0->astroquery) (41.0.7)\n",
      "Requirement already satisfied: more-itertools in /home/nabillbox/.local/lib/python3.9/site-packages (from jaraco.classes->keyring>=15.0->astroquery) (10.7.0)\n",
      "Requirement already satisfied: backports.tarfile in /home/nabillbox/.local/lib/python3.9/site-packages (from jaraco.context->keyring>=15.0->astroquery) (1.2.0)\n"
     ]
    }
   ],
   "source": [
    "# Required packages (install if needed):\n",
    "!pip install rebound reboundx astroquery astropy numpy pandas\n",
    "\n",
    "import rebound\n",
    "import reboundx\n",
    "import numpy as np\n",
    "import pandas as pd\n",
    "from astroquery.jplhorizons import Horizons\n",
    "from astropy.time import Time\n",
    "import warnings\n",
    "from astropy.utils.exceptions import ErfaWarning\n",
    "warnings.simplefilter('ignore', ErfaWarning)"
   ]
  },
  {
   "cell_type": "code",
   "execution_count": 2,
   "id": "4985aa5f-b44c-4593-84d5-05b84e19fbb8",
   "metadata": {},
   "outputs": [],
   "source": [
    "initdate = \"2011-01-01 00:00:00\""
   ]
  },
  {
   "cell_type": "code",
   "execution_count": 3,
   "id": "5d3d09fa-8b7a-4f69-91b7-b79ff5758df5",
   "metadata": {},
   "outputs": [
    {
     "name": "stdout",
     "output_type": "stream",
     "text": [
      "Searching NASA Horizons for 'Sun'... \n",
      "Found: Sun (10) \n",
      "Searching NASA Horizons for 'Mercury'... \n",
      "Found: Mercury Barycenter (199) (chosen from query 'Mercury')\n",
      "Searching NASA Horizons for 'Venus'... \n",
      "Found: Venus Barycenter (299) (chosen from query 'Venus')\n",
      "Searching NASA Horizons for 'Earth'... \n",
      "Found: Earth-Moon Barycenter (3) (chosen from query 'Earth')\n",
      "Searching NASA Horizons for 'Mars'... \n",
      "Found: Mars Barycenter (4) (chosen from query 'Mars')\n",
      "Searching NASA Horizons for 'Jupiter'... \n",
      "Found: Jupiter Barycenter (5) (chosen from query 'Jupiter')\n",
      "Searching NASA Horizons for 'Saturn'... \n",
      "Found: Saturn Barycenter (6) (chosen from query 'Saturn')\n",
      "Searching NASA Horizons for 'Uranus'... \n",
      "Found: Uranus Barycenter (7) (chosen from query 'Uranus')\n",
      "Searching NASA Horizons for 'Neptune'... \n",
      "Found: Neptune Barycenter (8) (chosen from query 'Neptune')\n",
      "Searching NASA Horizons for 'Bennu'... \n",
      "Found: 101955 Bennu (1999 RQ36) (2101955) \n"
     ]
    },
    {
     "name": "stderr",
     "output_type": "stream",
     "text": [
      "/home/nabillbox/rbx_venv/lib/python3.9/site-packages/rebound/horizons.py:181: RuntimeWarning: Warning: Mass cannot be retrieved from NASA HORIZONS. Set to 0.\n",
      "  warnings.warn(\"Warning: Mass cannot be retrieved from NASA HORIZONS. Set to 0.\", RuntimeWarning)\n"
     ]
    }
   ],
   "source": [
    "# --- PARAMETERS ---\n",
    "JD_start = 2455562.5\n",
    "JD_ref = 2451545.0\n",
    "days_per_year = 365.25\n",
    "t0 = (JD_start - JD_ref) / days_per_year\n",
    "\n",
    "# --- SETUP SIMULATION ---\n",
    "sim = rebound.Simulation()\n",
    "sim.units = ('AU', 'yr', 'Msun')\n",
    "sim.integrator = \"ias15\"\n",
    "#sim.ri_ias15.min_dt = 1e-8  # stabilizes long-term integration\n",
    "\n",
    "sim.add(\"Sun\", hash=\"sun\", date=initdate)\n",
    "for planet in [\"Mercury\", \"Venus\", \"Earth\", \"Mars\", \"Jupiter\", \"Saturn\", \"Uranus\", \"Neptune\"]:\n",
    "    sim.add(planet, date=initdate)\n",
    "sim.add(\"Bennu\", date=initdate)\n",
    "sim.particles[-1].m = 3.6858598e-20  # Set Bennu's mass in Msun"
   ]
  },
  {
   "cell_type": "code",
   "execution_count": 4,
   "id": "6ab88e39-a64c-4777-a020-9c8283082f66",
   "metadata": {},
   "outputs": [],
   "source": [
    "# --- FETCH BENNU'S STATE VECTOR ---\n",
    "#obj = Horizons(id='101955', location='500@0', epochs=JD_start, id_type='smallbody')\n",
    "#vec = obj.vectors()[0]\n",
    "\n",
    "#AU_per_km = 1 / 149597870.7\n",
    "#sec_per_yr = 365.25 * 86400\n",
    "\n",
    "#vx_auyr = 1.537787896744310E-01 * AU_per_km * sec_per_yr\n",
    "#vy_auyr = -2.582218644800113E+01 * AU_per_km * sec_per_yr\n",
    "#vz_auyr = -2.727643810842073E+00 * AU_per_km * sec_per_yr\n",
    "\n",
    "#sim.add(x=-1.787897783189468E+08 * AU_per_km,\n",
    "#        y=-3.511310048144390E+07 * AU_per_km,\n",
    "#        z=-3.041228507657278E+06 * AU_per_km,\n",
    "#        vx=vx_auyr,\n",
    "#        vy=vy_auyr,\n",
    "#        vz=vz_auyr,\n",
    "#        m=3.922e-20,\n",
    "#        hash=\"Bennu\")  # test particle"
   ]
  },
  {
   "cell_type": "code",
   "execution_count": 5,
   "id": "b57e319d-a2ce-47bf-8d2a-207a1260effe",
   "metadata": {},
   "outputs": [],
   "source": [
    "# Yarkovsky constants\n",
    "c = 63241.077  # speed of light in AU/yr\n",
    "stef_boltz = 8.96e-16 # Stefan-Boltzmann constant in Msun / (yr^3 K^4)\n",
    "lstar = 2.7e-4  # solar luminosity (Energy / time) in (Msun * AU^2 / yr^2 )\n",
    "\n",
    "# --- BENNU PHYSICAL PROPERTIES ---\n",
    "density = 2010363.7867  # Msun/AU^3\n",
    "radius = 1.644e-9  # 246 meters i n AU ✅\n",
    "Gamma = 8.48e-10  # thermal inertia Msun / yr^(5/2)\n",
    "rotation_period = 4.9019e-4  # years\n",
    "albedo = 0.044  \n",
    "emissivity = 0.95  \n",
    "k = 0  "
   ]
  },
  {
   "cell_type": "code",
   "execution_count": 6,
   "id": "edd73366-6b37-4ae3-aea1-ac2306878e42",
   "metadata": {},
   "outputs": [],
   "source": [
    "# --- YARKOVSKY FORCE via REBOUNDx ---\n",
    "rebx = reboundx.Extras(sim)\n",
    "yark = rebx.load_force(\"yarkovsky_effect\")\n",
    "\n",
    "# Set the effect properties on the effect object:\n",
    "yark.params[\"ye_c\"] = c\n",
    "yark.params[\"ye_lstar\"] = lstar\n",
    "yark.params[\"ye_stef_boltz\"] = stef_boltz\n",
    "\n",
    "# Sets parameters for Bennu\n",
    "asteroid = sim.particles[-1]\n",
    "asteroid.r = radius\n",
    "asteroid.params[\"ye_flag\"] = 0  #setting this flag to 0 will give us the full version of the effect\n",
    "asteroid.params[\"ye_body_density\"] = density\n",
    "asteroid.params[\"ye_albedo\"] = albedo\n",
    "asteroid.params[\"ye_emissivity\"] = emissivity\n",
    "asteroid.params[\"ye_k\"] = k\n",
    "asteroid.params[\"ye_thermal_inertia\"] = Gamma\n",
    "asteroid.params[\"ye_rotation_period\"] = rotation_period\n",
    "asteroid.params[\"ye_spin_axis_x\"] = 1      #vec['-1.787897783189468E+08']\n",
    "asteroid.params[\"ye_spin_axis_y\"] = 0      #vec['-3.511310048144390E+07']\n",
    "asteroid.params[\"ye_spin_axis_z\"] = 0      #vec['-3.041228507657278E+06']\n",
    "\n",
    "rebx.add_force(yark)"
   ]
  },
  {
   "cell_type": "code",
   "execution_count": 7,
   "id": "650be895-31d4-40ed-b269-99d0834abd7a",
   "metadata": {},
   "outputs": [],
   "source": [
    "# --- INTEGRATION SETUP ---\n",
    "#n_outputs = 0.1  # every 0.1 years\n",
    "#tmax = 1000  # 1 Myr\n",
    "#times = np.linspace(t0, t0 + tmax, n_outputs)\n",
    "\n",
    "n_outputs = 10000                    \n",
    "years_per_step = 100            # Every 100 years for 1000000 years\n",
    "total_time = n_outputs * years_per_step\n",
    "times = t0 + np.arange(n_outputs) * years_per_step\n",
    "\n",
    "elements = []\n",
    "#a_vals = []\n",
    "#e_vals = []"
   ]
  },
  {
   "cell_type": "code",
   "execution_count": 8,
   "id": "b692a1ad-57e9-4128-b5d7-cbcecec3bfc2",
   "metadata": {},
   "outputs": [],
   "source": [
    "def get_orbit(sim):\n",
    "    sun = sim.particles[0]\n",
    "    p = sim.particles[-1]  # Bennu\n",
    "\n",
    "    # Compute orbit relative to the Sun\n",
    "    orbit = rebound.Orbit(p.x - sun.x,\n",
    "                          p.y - sun.y,\n",
    "                          p.z - sun.z,\n",
    "                          p.vx - sun.vx,\n",
    "                          p.vy - sun.vy,\n",
    "                          p.vz - sun.vz,\n",
    "                          m=p.m,\n",
    "                          primary=sun)\n",
    "\n",
    "    return orbit"
   ]
  },
  {
   "cell_type": "code",
   "execution_count": 9,
   "id": "8f84e39a-cf7d-4e7e-8595-ac164bc7fda5",
   "metadata": {},
   "outputs": [
    {
     "name": "stderr",
     "output_type": "stream",
     "text": [
      "/home/nabillbox/rbx_venv/lib/python3.9/site-packages/rebound/simulation.py:192: RuntimeWarning: You have to reset function pointers after creating a reb_simulation struct with a binary file.\n",
      "  warnings.warn(message, RuntimeWarning)\n"
     ]
    },
    {
     "name": "stdout",
     "output_type": "stream",
     "text": [
      "Saved: [pro_retro] coba aja bennu 2011_sx1.00_sy0.00_sz0.00.csv\n"
     ]
    }
   ],
   "source": [
    "# Define different spin axis configurations to test\n",
    "spin_axis_variants = [\n",
    "    (1, 0, 0),  # obliquity 90°\n",
    "    #(0, 1, 0),  # obliquity 90°\n",
    "    #(0, 0, 1),  # obliquity 0°\n",
    "    #(1/np.sqrt(3), 1/np.sqrt(3), 1/np.sqrt(3)),  #obliquity ~54.7° # 45° in all directions\n",
    "    #(-1, 0, 0)  # obliquity 90°\n",
    "    #(0, -1, 0), # obliquity 90°\n",
    "    #(0, 0, -1), # obliquity 180°\n",
    "    #(1/np.sqrt(3), 1/np.sqrt(3), -1/np.sqrt(3)),  # obliquity ~125.3°\n",
    "]\n",
    "\n",
    "for i, (sx, sy, sz) in enumerate(spin_axis_variants):\n",
    "    # Normalize spin axis vector (optional but recommended)\n",
    "    #norm = np.linalg.norm([sx, sy, sz])\n",
    "    #sx, sy, sz = sx/norm, sy/norm, sz/norm\n",
    "\n",
    "    #print(f\"\\n=== Running Variant {i} ===\")\n",
    "    #print(f\"Spin axis = ({sx:.3f}, {sy:.3f}, {sz:.3f})\")\n",
    "    \n",
    "    # Clone the simulation (independent copy)\n",
    "    sim_variant = sim.copy()\n",
    "    asteroid_variant = sim_variant.particles[-1]\n",
    "    \n",
    "    # Re-initialize force (MUST be done after copy)\n",
    "    rebx_variant = reboundx.Extras(sim_variant)\n",
    "    yark_variant = rebx_variant.load_force(\"yarkovsky_effect\")\n",
    "    \n",
    "\n",
    "    # Set Yarkovsky force parameters\n",
    "    yark_variant.params[\"ye_c\"] = c\n",
    "    yark_variant.params[\"ye_lstar\"] = lstar\n",
    "    yark_variant.params[\"ye_stef_boltz\"] = stef_boltz\n",
    "\n",
    "    # Set asteroid physical and spin parameters\n",
    "    asteroid_variant.params[\"ye_flag\"] = 0\n",
    "    asteroid_variant.params[\"ye_body_density\"] = density\n",
    "    asteroid_variant.params[\"ye_albedo\"] = albedo\n",
    "    asteroid_variant.params[\"ye_emissivity\"] = emissivity\n",
    "    asteroid_variant.params[\"ye_k\"] = k\n",
    "    asteroid_variant.params[\"ye_thermal_inertia\"] = Gamma\n",
    "    asteroid_variant.params[\"ye_rotation_period\"] = rotation_period\n",
    "    asteroid_variant.params[\"ye_spin_axis_x\"] = sx\n",
    "    asteroid_variant.params[\"ye_spin_axis_y\"] = sy\n",
    "    asteroid_variant.params[\"ye_spin_axis_z\"] = sz\n",
    "\n",
    "    rebx_variant.add_force(yark_variant)\n",
    "    \n",
    "    variant_elements = []\n",
    "\n",
    "    for t in times:\n",
    "        sim_variant.integrate(t)\n",
    "        orbit = sim_variant.particles[-1]\n",
    "        jd = JD_ref + t * days_per_year\n",
    "        calendar_date = Time(jd, format='jd').iso.split()[0]\n",
    "\n",
    "        variant_elements.append([\n",
    "            t, jd, calendar_date,\n",
    "            orbit.a,\n",
    "            orbit.e,\n",
    "            np.degrees(orbit.inc),\n",
    "            np.degrees(orbit.Omega),\n",
    "            np.degrees(orbit.omega),\n",
    "            np.degrees(orbit.M)\n",
    "        ])\n",
    "\n",
    "    # Save to separate CSV file\n",
    "    filename = f\"[pro_retro] coba aja bennu 2011_sx{sx:.2f}_sy{sy:.2f}_sz{sz:.2f}.csv\"\n",
    "    df_variant = pd.DataFrame(variant_elements, columns=[\n",
    "        \"Time (yr since J2000)\", \"Julian Date\", \"Calendar Date\",\n",
    "        \"a (AU)\", \"e\", \"i (deg)\", \"Omega (deg)\", \"omega (deg)\", \"M (deg)\"\n",
    "    ])\n",
    "    df_variant.to_csv(filename, index=False)\n",
    "    print(f\"Saved: {filename}\")"
   ]
  }
 ],
 "metadata": {
  "kernelspec": {
   "display_name": "Python (rbx_venv)",
   "language": "python",
   "name": "rbx_venv"
  },
  "language_info": {
   "codemirror_mode": {
    "name": "ipython",
    "version": 3
   },
   "file_extension": ".py",
   "mimetype": "text/x-python",
   "name": "python",
   "nbconvert_exporter": "python",
   "pygments_lexer": "ipython3",
   "version": "3.9.23"
  }
 },
 "nbformat": 4,
 "nbformat_minor": 5
}
